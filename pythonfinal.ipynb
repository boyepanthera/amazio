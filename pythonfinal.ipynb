{
 "cells": [
  {
   "cell_type": "code",
   "execution_count": 106,
   "metadata": {
    "colab": {
     "base_uri": "https://localhost:8080/"
    },
    "id": "1Hk9-B7oYNGp",
    "outputId": "6c3dfc2b-6419-49cc-8e86-f4dcc1acc90c"
   },
   "outputs": [
    {
     "name": "stdout",
     "output_type": "stream",
     "text": [
      "Requirement already satisfied: kagglehub in /opt/anaconda3/lib/python3.12/site-packages (0.3.4)\n",
      "Requirement already satisfied: packaging in /opt/anaconda3/lib/python3.12/site-packages (from kagglehub) (23.2)\n",
      "Requirement already satisfied: requests in /opt/anaconda3/lib/python3.12/site-packages (from kagglehub) (2.32.2)\n",
      "Requirement already satisfied: tqdm in /opt/anaconda3/lib/python3.12/site-packages (from kagglehub) (4.66.4)\n",
      "Requirement already satisfied: charset-normalizer<4,>=2 in /opt/anaconda3/lib/python3.12/site-packages (from requests->kagglehub) (2.0.4)\n",
      "Requirement already satisfied: idna<4,>=2.5 in /opt/anaconda3/lib/python3.12/site-packages (from requests->kagglehub) (3.7)\n",
      "Requirement already satisfied: urllib3<3,>=1.21.1 in /opt/anaconda3/lib/python3.12/site-packages (from requests->kagglehub) (2.2.2)\n",
      "Requirement already satisfied: certifi>=2017.4.17 in /opt/anaconda3/lib/python3.12/site-packages (from requests->kagglehub) (2024.8.30)\n"
     ]
    }
   ],
   "source": [
    "!pip install kagglehub"
   ]
  },
  {
   "cell_type": "code",
   "execution_count": 108,
   "metadata": {
    "colab": {
     "base_uri": "https://localhost:8080/"
    },
    "id": "l1_qBJuacHX_",
    "outputId": "c7f2e87d-f968-401a-d9bc-8e3e4b74bd60"
   },
   "outputs": [
    {
     "name": "stdout",
     "output_type": "stream",
     "text": [
      "zsh:1: command not found: kaggle\n",
      "unzip:  cannot find or open consumer-reviews-of-amazon-products.zip, consumer-reviews-of-amazon-products.zip.zip or consumer-reviews-of-amazon-products.zip.ZIP.\n"
     ]
    }
   ],
   "source": [
    "!kaggle datasets download -d datafiniti/consumer-reviews-of-amazon-products\n",
    "!unzip consumer-reviews-of-amazon-products.zip -d /content/dataset"
   ]
  },
  {
   "cell_type": "code",
   "execution_count": 110,
   "metadata": {},
   "outputs": [
    {
     "name": "stdout",
     "output_type": "stream",
     "text": [
      "Path to dataset files: /Users/boyepanthera/.cache/kagglehub/datasets/datafiniti/consumer-reviews-of-amazon-products/versions/5\n"
     ]
    }
   ],
   "source": [
    "import kagglehub\n",
    "\n",
    "# Download latest version\n",
    "path = kagglehub.dataset_download(\"datafiniti/consumer-reviews-of-amazon-products\")\n",
    "\n",
    "print(\"Path to dataset files:\", path)"
   ]
  },
  {
   "cell_type": "code",
   "execution_count": 112,
   "metadata": {
    "colab": {
     "base_uri": "https://localhost:8080/"
    },
    "id": "k5lIQ1edckUk",
    "outputId": "1941d6b6-f15b-4307-fd59-6566be1ebc70"
   },
   "outputs": [
    {
     "name": "stdout",
     "output_type": "stream",
     "text": [
      "Columns in the dataset: Index(['id', 'dateAdded', 'dateUpdated', 'name', 'asins', 'brand',\n",
      "       'categories', 'primaryCategories', 'imageURLs', 'keys', 'manufacturer',\n",
      "       'manufacturerNumber', 'reviews.date', 'reviews.dateAdded',\n",
      "       'reviews.dateSeen', 'reviews.doRecommend', 'reviews.id',\n",
      "       'reviews.numHelpful', 'reviews.rating', 'reviews.sourceURLs',\n",
      "       'reviews.text', 'reviews.title', 'reviews.username', 'sourceURLs'],\n",
      "      dtype='object')\n",
      "                     id             dateAdded           dateUpdated  \\\n",
      "0  AVqVGZNvQMlgsOJE6eUY  2017-03-03T16:56:05Z  2018-10-25T16:36:31Z   \n",
      "1  AVqVGZNvQMlgsOJE6eUY  2017-03-03T16:56:05Z  2018-10-25T16:36:31Z   \n",
      "2  AVqVGZNvQMlgsOJE6eUY  2017-03-03T16:56:05Z  2018-10-25T16:36:31Z   \n",
      "3  AVqVGZNvQMlgsOJE6eUY  2017-03-03T16:56:05Z  2018-10-25T16:36:31Z   \n",
      "4  AVqVGZNvQMlgsOJE6eUY  2017-03-03T16:56:05Z  2018-10-25T16:36:31Z   \n",
      "\n",
      "                                                name       asins   brand  \\\n",
      "0  Amazon Kindle E-Reader 6\" Wifi (8th Generation...  B00ZV9PXP2  Amazon   \n",
      "1  Amazon Kindle E-Reader 6\" Wifi (8th Generation...  B00ZV9PXP2  Amazon   \n",
      "2  Amazon Kindle E-Reader 6\" Wifi (8th Generation...  B00ZV9PXP2  Amazon   \n",
      "3  Amazon Kindle E-Reader 6\" Wifi (8th Generation...  B00ZV9PXP2  Amazon   \n",
      "4  Amazon Kindle E-Reader 6\" Wifi (8th Generation...  B00ZV9PXP2  Amazon   \n",
      "\n",
      "                                          categories primaryCategories  \\\n",
      "0  Computers,Electronics Features,Tablets,Electro...       Electronics   \n",
      "1  Computers,Electronics Features,Tablets,Electro...       Electronics   \n",
      "2  Computers,Electronics Features,Tablets,Electro...       Electronics   \n",
      "3  Computers,Electronics Features,Tablets,Electro...       Electronics   \n",
      "4  Computers,Electronics Features,Tablets,Electro...       Electronics   \n",
      "\n",
      "                                           imageURLs  \\\n",
      "0  https://pisces.bbystatic.com/image2/BestBuy_US...   \n",
      "1  https://pisces.bbystatic.com/image2/BestBuy_US...   \n",
      "2  https://pisces.bbystatic.com/image2/BestBuy_US...   \n",
      "3  https://pisces.bbystatic.com/image2/BestBuy_US...   \n",
      "4  https://pisces.bbystatic.com/image2/BestBuy_US...   \n",
      "\n",
      "                                                keys  ...  \\\n",
      "0  allnewkindleereaderblack6glarefreetouchscreend...  ...   \n",
      "1  allnewkindleereaderblack6glarefreetouchscreend...  ...   \n",
      "2  allnewkindleereaderblack6glarefreetouchscreend...  ...   \n",
      "3  allnewkindleereaderblack6glarefreetouchscreend...  ...   \n",
      "4  allnewkindleereaderblack6glarefreetouchscreend...  ...   \n",
      "\n",
      "                                    reviews.dateSeen reviews.doRecommend  \\\n",
      "0  2018-05-27T00:00:00Z,2017-09-18T00:00:00Z,2017...               False   \n",
      "1  2018-05-27T00:00:00Z,2017-07-07T00:00:00Z,2017...                True   \n",
      "2                               2018-05-27T00:00:00Z                True   \n",
      "3                               2018-10-09T00:00:00Z                True   \n",
      "4                               2018-05-27T00:00:00Z                True   \n",
      "\n",
      "    reviews.id reviews.numHelpful reviews.rating  \\\n",
      "0          NaN                  0              3   \n",
      "1          NaN                  0              5   \n",
      "2          NaN                  0              4   \n",
      "3  177283626.0                  3              5   \n",
      "4          NaN                  0              5   \n",
      "\n",
      "                                  reviews.sourceURLs  \\\n",
      "0  http://reviews.bestbuy.com/3545/5442403/review...   \n",
      "1  http://reviews.bestbuy.com/3545/5442403/review...   \n",
      "2  https://reviews.bestbuy.com/3545/5442403/revie...   \n",
      "3  https://redsky.target.com/groot-domain-api/v1/...   \n",
      "4  https://reviews.bestbuy.com/3545/5442403/revie...   \n",
      "\n",
      "                                        reviews.text  \\\n",
      "0  I thought it would be as big as small paper bu...   \n",
      "1  This kindle is light and easy to use especiall...   \n",
      "2  Didnt know how much i'd use a kindle so went f...   \n",
      "3  I am 100 happy with my purchase. I caught it o...   \n",
      "4  Solid entry level Kindle. Great for kids. Gift...   \n",
      "\n",
      "                                  reviews.title  reviews.username  \\\n",
      "0                                     Too small            llyyue   \n",
      "1  Great light reader. Easy to use at the beach            Charmi   \n",
      "2                           Great for the price      johnnyjojojo   \n",
      "3                                   A Great Buy           Kdperry   \n",
      "4      Solid entry-level Kindle. Great for kids       Johnnyblack   \n",
      "\n",
      "                                          sourceURLs  \n",
      "0  https://www.newegg.com/Product/Product.aspx%25...  \n",
      "1  https://www.newegg.com/Product/Product.aspx%25...  \n",
      "2  https://www.newegg.com/Product/Product.aspx%25...  \n",
      "3  https://www.newegg.com/Product/Product.aspx%25...  \n",
      "4  https://www.newegg.com/Product/Product.aspx%25...  \n",
      "\n",
      "[5 rows x 24 columns]\n"
     ]
    }
   ],
   "source": [
    "import pandas as pd\n",
    "\n",
    "# Load the main file (update if needed)\n",
    "file_path = 'dataset/Datafiniti_Amazon_Consumer_Reviews_of_Amazon_Products.csv'\n",
    "df = pd.read_csv(file_path)\n",
    "\n",
    "# Inspect the dataset\n",
    "print(\"Columns in the dataset:\", df.columns)\n",
    "print(df.head())"
   ]
  },
  {
   "cell_type": "code",
   "execution_count": null,
   "metadata": {},
   "outputs": [],
   "source": []
  },
  {
   "cell_type": "code",
   "execution_count": 114,
   "metadata": {
    "colab": {
     "base_uri": "https://localhost:8080/"
    },
    "id": "--nB4-Gtd8oo",
    "outputId": "f38f1f1c-89b9-4e4f-9a41-6bff93745f24"
   },
   "outputs": [
    {
     "name": "stdout",
     "output_type": "stream",
     "text": [
      "                                        reviews.text  \\\n",
      "0  I thought it would be as big as small paper bu...   \n",
      "1  This kindle is light and easy to use especiall...   \n",
      "2  Didnt know how much i'd use a kindle so went f...   \n",
      "3  I am 100 happy with my purchase. I caught it o...   \n",
      "4  Solid entry level Kindle. Great for kids. Gift...   \n",
      "\n",
      "                                    processed_review  \n",
      "0  thought would big small paper turn like palm t...  \n",
      "1             kindle light easy use especially beach  \n",
      "2  didnt know much use kindle went lower end im h...  \n",
      "3  happy purchase caught sale really good price n...  \n",
      "4  solid entry level kindle great kids gifted kid...  \n"
     ]
    }
   ],
   "source": [
    "from nltk.tokenize import RegexpTokenizer\n",
    "\n",
    "# Define a tokenizer to match words (ignores punctuations)\n",
    "tokenizer = RegexpTokenizer(r'\\w+')\n",
    "\n",
    "# Preprocessing function with RegexpTokenizer\n",
    "def preprocess_text(text):\n",
    "    tokens = tokenizer.tokenize(str(text).lower())  # Tokenize and lowercase\n",
    "    tokens = [word for word in tokens if word.isalpha() and word not in stop_words]  # Remove stopwords\n",
    "    return ' '.join(tokens)\n",
    "\n",
    "# Apply preprocessing to the 'reviews.text' column\n",
    "df['processed_review'] = df['reviews.text'].apply(preprocess_text)\n",
    "\n",
    "# Verify the new column\n",
    "print(df[['reviews.text', 'processed_review']].head())"
   ]
  },
  {
   "cell_type": "code",
   "execution_count": 116,
   "metadata": {
    "colab": {
     "base_uri": "https://localhost:8080/"
    },
    "id": "nLXPekC0guOO",
    "outputId": "252925a5-3ec2-4576-de75-08d5ada21bf4"
   },
   "outputs": [
    {
     "name": "stdout",
     "output_type": "stream",
     "text": [
      "                                    processed_review         label\n",
      "0  thought would big small paper turn like palm t...  Unverifiable\n",
      "1             kindle light easy use especially beach         False\n",
      "2  didnt know much use kindle went lower end im h...          True\n",
      "3  happy purchase caught sale really good price n...  Unverifiable\n",
      "4  solid entry level kindle great kids gifted kid...          True\n"
     ]
    }
   ],
   "source": [
    "import random\n",
    "\n",
    "# Add synthetic labels (True, False, Unverifiable)\n",
    "labels = ['True', 'False', 'Unverifiable']\n",
    "df['label'] = [random.choice(labels) for _ in range(len(df))]\n",
    "\n",
    "# Verify the labeled dataset\n",
    "print(df[['processed_review', 'label']].head())"
   ]
  },
  {
   "cell_type": "code",
   "execution_count": 118,
   "metadata": {
    "colab": {
     "base_uri": "https://localhost:8080/"
    },
    "id": "VQMtAVRWgzWD",
    "outputId": "b266a7df-0981-4f4f-ed39-747a55de1c62"
   },
   "outputs": [
    {
     "name": "stdout",
     "output_type": "stream",
     "text": [
      "Training and testing datasets created successfully!\n"
     ]
    }
   ],
   "source": [
    "from sklearn.model_selection import train_test_split\n",
    "\n",
    "# Split the dataset into training and testing sets\n",
    "train, test = train_test_split(df[['processed_review', 'label']], test_size=0.2, random_state=42)\n",
    "\n",
    "# Save the splits for future use\n",
    "train.to_csv('train.csv', index=False)\n",
    "test.to_csv('test.csv', index=False)\n",
    "\n",
    "print(\"Training and testing datasets created successfully!\")"
   ]
  },
  {
   "cell_type": "code",
   "execution_count": 120,
   "metadata": {
    "colab": {
     "base_uri": "https://localhost:8080/"
    },
    "id": "M28Md7_ag3BL",
    "outputId": "85a77a8c-a410-4c4b-857a-fa91f03c2d0b"
   },
   "outputs": [
    {
     "name": "stdout",
     "output_type": "stream",
     "text": [
      "Requirement already satisfied: transformers in /opt/anaconda3/lib/python3.12/site-packages (4.46.3)\n",
      "Requirement already satisfied: filelock in /opt/anaconda3/lib/python3.12/site-packages (from transformers) (3.13.1)\n",
      "Requirement already satisfied: huggingface-hub<1.0,>=0.23.2 in /opt/anaconda3/lib/python3.12/site-packages (from transformers) (0.26.3)\n",
      "Requirement already satisfied: numpy>=1.17 in /opt/anaconda3/lib/python3.12/site-packages (from transformers) (1.26.4)\n",
      "Requirement already satisfied: packaging>=20.0 in /opt/anaconda3/lib/python3.12/site-packages (from transformers) (23.2)\n",
      "Requirement already satisfied: pyyaml>=5.1 in /opt/anaconda3/lib/python3.12/site-packages (from transformers) (6.0.1)\n",
      "Requirement already satisfied: regex!=2019.12.17 in /opt/anaconda3/lib/python3.12/site-packages (from transformers) (2023.10.3)\n",
      "Requirement already satisfied: requests in /opt/anaconda3/lib/python3.12/site-packages (from transformers) (2.32.2)\n",
      "Requirement already satisfied: tokenizers<0.21,>=0.20 in /opt/anaconda3/lib/python3.12/site-packages (from transformers) (0.20.3)\n",
      "Requirement already satisfied: safetensors>=0.4.1 in /opt/anaconda3/lib/python3.12/site-packages (from transformers) (0.4.5)\n",
      "Requirement already satisfied: tqdm>=4.27 in /opt/anaconda3/lib/python3.12/site-packages (from transformers) (4.66.4)\n",
      "Requirement already satisfied: fsspec>=2023.5.0 in /opt/anaconda3/lib/python3.12/site-packages (from huggingface-hub<1.0,>=0.23.2->transformers) (2024.3.1)\n",
      "Requirement already satisfied: typing-extensions>=3.7.4.3 in /opt/anaconda3/lib/python3.12/site-packages (from huggingface-hub<1.0,>=0.23.2->transformers) (4.11.0)\n",
      "Requirement already satisfied: charset-normalizer<4,>=2 in /opt/anaconda3/lib/python3.12/site-packages (from requests->transformers) (2.0.4)\n",
      "Requirement already satisfied: idna<4,>=2.5 in /opt/anaconda3/lib/python3.12/site-packages (from requests->transformers) (3.7)\n",
      "Requirement already satisfied: urllib3<3,>=1.21.1 in /opt/anaconda3/lib/python3.12/site-packages (from requests->transformers) (2.2.2)\n",
      "Requirement already satisfied: certifi>=2017.4.17 in /opt/anaconda3/lib/python3.12/site-packages (from requests->transformers) (2024.8.30)\n"
     ]
    }
   ],
   "source": [
    "!pip install transformers"
   ]
  },
  {
   "cell_type": "code",
   "execution_count": 122,
   "metadata": {
    "colab": {
     "base_uri": "https://localhost:8080/"
    },
    "id": "iHzjTm27h4R7",
    "outputId": "ae38cc87-a611-4fc7-f078-36ab570abe11"
   },
   "outputs": [
    {
     "name": "stdout",
     "output_type": "stream",
     "text": [
      "Columns in the dataset: Index(['id', 'dateAdded', 'dateUpdated', 'name', 'asins', 'brand',\n",
      "       'categories', 'primaryCategories', 'imageURLs', 'keys', 'manufacturer',\n",
      "       'manufacturerNumber', 'reviews.date', 'reviews.dateAdded',\n",
      "       'reviews.dateSeen', 'reviews.doRecommend', 'reviews.id',\n",
      "       'reviews.numHelpful', 'reviews.rating', 'reviews.sourceURLs',\n",
      "       'reviews.text', 'reviews.title', 'reviews.username', 'sourceURLs'],\n",
      "      dtype='object')\n",
      "                     id             dateAdded           dateUpdated  \\\n",
      "0  AVqVGZNvQMlgsOJE6eUY  2017-03-03T16:56:05Z  2018-10-25T16:36:31Z   \n",
      "1  AVqVGZNvQMlgsOJE6eUY  2017-03-03T16:56:05Z  2018-10-25T16:36:31Z   \n",
      "2  AVqVGZNvQMlgsOJE6eUY  2017-03-03T16:56:05Z  2018-10-25T16:36:31Z   \n",
      "3  AVqVGZNvQMlgsOJE6eUY  2017-03-03T16:56:05Z  2018-10-25T16:36:31Z   \n",
      "4  AVqVGZNvQMlgsOJE6eUY  2017-03-03T16:56:05Z  2018-10-25T16:36:31Z   \n",
      "\n",
      "                                                name       asins   brand  \\\n",
      "0  Amazon Kindle E-Reader 6\" Wifi (8th Generation...  B00ZV9PXP2  Amazon   \n",
      "1  Amazon Kindle E-Reader 6\" Wifi (8th Generation...  B00ZV9PXP2  Amazon   \n",
      "2  Amazon Kindle E-Reader 6\" Wifi (8th Generation...  B00ZV9PXP2  Amazon   \n",
      "3  Amazon Kindle E-Reader 6\" Wifi (8th Generation...  B00ZV9PXP2  Amazon   \n",
      "4  Amazon Kindle E-Reader 6\" Wifi (8th Generation...  B00ZV9PXP2  Amazon   \n",
      "\n",
      "                                          categories primaryCategories  \\\n",
      "0  Computers,Electronics Features,Tablets,Electro...       Electronics   \n",
      "1  Computers,Electronics Features,Tablets,Electro...       Electronics   \n",
      "2  Computers,Electronics Features,Tablets,Electro...       Electronics   \n",
      "3  Computers,Electronics Features,Tablets,Electro...       Electronics   \n",
      "4  Computers,Electronics Features,Tablets,Electro...       Electronics   \n",
      "\n",
      "                                           imageURLs  \\\n",
      "0  https://pisces.bbystatic.com/image2/BestBuy_US...   \n",
      "1  https://pisces.bbystatic.com/image2/BestBuy_US...   \n",
      "2  https://pisces.bbystatic.com/image2/BestBuy_US...   \n",
      "3  https://pisces.bbystatic.com/image2/BestBuy_US...   \n",
      "4  https://pisces.bbystatic.com/image2/BestBuy_US...   \n",
      "\n",
      "                                                keys  ...  \\\n",
      "0  allnewkindleereaderblack6glarefreetouchscreend...  ...   \n",
      "1  allnewkindleereaderblack6glarefreetouchscreend...  ...   \n",
      "2  allnewkindleereaderblack6glarefreetouchscreend...  ...   \n",
      "3  allnewkindleereaderblack6glarefreetouchscreend...  ...   \n",
      "4  allnewkindleereaderblack6glarefreetouchscreend...  ...   \n",
      "\n",
      "                                    reviews.dateSeen reviews.doRecommend  \\\n",
      "0  2018-05-27T00:00:00Z,2017-09-18T00:00:00Z,2017...               False   \n",
      "1  2018-05-27T00:00:00Z,2017-07-07T00:00:00Z,2017...                True   \n",
      "2                               2018-05-27T00:00:00Z                True   \n",
      "3                               2018-10-09T00:00:00Z                True   \n",
      "4                               2018-05-27T00:00:00Z                True   \n",
      "\n",
      "    reviews.id reviews.numHelpful reviews.rating  \\\n",
      "0          NaN                  0              3   \n",
      "1          NaN                  0              5   \n",
      "2          NaN                  0              4   \n",
      "3  177283626.0                  3              5   \n",
      "4          NaN                  0              5   \n",
      "\n",
      "                                  reviews.sourceURLs  \\\n",
      "0  http://reviews.bestbuy.com/3545/5442403/review...   \n",
      "1  http://reviews.bestbuy.com/3545/5442403/review...   \n",
      "2  https://reviews.bestbuy.com/3545/5442403/revie...   \n",
      "3  https://redsky.target.com/groot-domain-api/v1/...   \n",
      "4  https://reviews.bestbuy.com/3545/5442403/revie...   \n",
      "\n",
      "                                        reviews.text  \\\n",
      "0  I thought it would be as big as small paper bu...   \n",
      "1  This kindle is light and easy to use especiall...   \n",
      "2  Didnt know how much i'd use a kindle so went f...   \n",
      "3  I am 100 happy with my purchase. I caught it o...   \n",
      "4  Solid entry level Kindle. Great for kids. Gift...   \n",
      "\n",
      "                                  reviews.title  reviews.username  \\\n",
      "0                                     Too small            llyyue   \n",
      "1  Great light reader. Easy to use at the beach            Charmi   \n",
      "2                           Great for the price      johnnyjojojo   \n",
      "3                                   A Great Buy           Kdperry   \n",
      "4      Solid entry-level Kindle. Great for kids       Johnnyblack   \n",
      "\n",
      "                                          sourceURLs  \n",
      "0  https://www.newegg.com/Product/Product.aspx%25...  \n",
      "1  https://www.newegg.com/Product/Product.aspx%25...  \n",
      "2  https://www.newegg.com/Product/Product.aspx%25...  \n",
      "3  https://www.newegg.com/Product/Product.aspx%25...  \n",
      "4  https://www.newegg.com/Product/Product.aspx%25...  \n",
      "\n",
      "[5 rows x 24 columns]\n"
     ]
    }
   ],
   "source": [
    "import pandas as pd\n",
    "\n",
    "# Reload the dataset\n",
    "file_path = 'dataset/Datafiniti_Amazon_Consumer_Reviews_of_Amazon_Products.csv'  # Update the path if needed\n",
    "df = pd.read_csv(file_path)\n",
    "\n",
    "# Verify the DataFrame\n",
    "print(\"Columns in the dataset:\", df.columns)\n",
    "print(df.head())\n"
   ]
  },
  {
   "cell_type": "code",
   "execution_count": 124,
   "metadata": {
    "colab": {
     "base_uri": "https://localhost:8080/",
     "height": 825
    },
    "id": "uwY3GtjHh71g",
    "outputId": "5c3c18f3-e590-4780-bcba-d23f0a5b85b4"
   },
   "outputs": [
    {
     "name": "stderr",
     "output_type": "stream",
     "text": [
      "[nltk_data] Downloading package stopwords to\n",
      "[nltk_data]     /Users/boyepanthera/nltk_data...\n",
      "[nltk_data]   Package stopwords is already up-to-date!\n",
      "[nltk_data] Downloading package punkt to\n",
      "[nltk_data]     /Users/boyepanthera/nltk_data...\n",
      "[nltk_data]   Package punkt is already up-to-date!\n"
     ]
    },
    {
     "name": "stdout",
     "output_type": "stream",
     "text": [
      "                                        reviews.text  \\\n",
      "0  I thought it would be as big as small paper bu...   \n",
      "1  This kindle is light and easy to use especiall...   \n",
      "2  Didnt know how much i'd use a kindle so went f...   \n",
      "3  I am 100 happy with my purchase. I caught it o...   \n",
      "4  Solid entry level Kindle. Great for kids. Gift...   \n",
      "\n",
      "                                    processed_review  \n",
      "0  thought would big small paper turn like palm t...  \n",
      "1             kindle light easy use especially beach  \n",
      "2  didnt know much use kindle went lower end im h...  \n",
      "3  happy purchase caught sale really good price n...  \n",
      "4  solid entry level kindle great kids gifted kid...  \n"
     ]
    }
   ],
   "source": [
    "import nltk\n",
    "from nltk.corpus import stopwords\n",
    "from nltk.tokenize import word_tokenize\n",
    "\n",
    "# Ensure necessary NLTK resources are available\n",
    "nltk.download('stopwords')\n",
    "nltk.download('punkt')\n",
    "\n",
    "stop_words = set(stopwords.words('english'))\n",
    "\n",
    "# Preprocessing function\n",
    "def preprocess_text(text):\n",
    "    tokens = word_tokenize(str(text).lower())  # Tokenize and lowercase\n",
    "    tokens = [word for word in tokens if word.isalpha() and word not in stop_words]  # Remove stopwords and non-alphabetic tokens\n",
    "    return ' '.join(tokens)\n",
    "\n",
    "# Preprocess the 'reviews.text' column\n",
    "df['processed_review'] = df['reviews.text'].apply(preprocess_text)\n",
    "\n",
    "# Verify the processed DataFrame\n",
    "print(df[['reviews.text', 'processed_review']].head())"
   ]
  },
  {
   "cell_type": "code",
   "execution_count": 127,
   "metadata": {
    "colab": {
     "base_uri": "https://localhost:8080/",
     "height": 357
    },
    "id": "8zBkxI5MiX4M",
    "outputId": "d981f2f4-d27f-42e7-8e51-2820718e4349"
   },
   "outputs": [
    {
     "name": "stdout",
     "output_type": "stream",
     "text": [
      "Requirement already satisfied: nltk==3.8.1 in /opt/anaconda3/lib/python3.12/site-packages (3.8.1)\n",
      "Requirement already satisfied: click in /opt/anaconda3/lib/python3.12/site-packages (from nltk==3.8.1) (8.1.7)\n",
      "Requirement already satisfied: joblib in /opt/anaconda3/lib/python3.12/site-packages (from nltk==3.8.1) (1.4.2)\n",
      "Requirement already satisfied: regex>=2021.8.3 in /opt/anaconda3/lib/python3.12/site-packages (from nltk==3.8.1) (2023.10.3)\n",
      "Requirement already satisfied: tqdm in /opt/anaconda3/lib/python3.12/site-packages (from nltk==3.8.1) (4.66.4)\n",
      "Note: you may need to restart the kernel to use updated packages.\n"
     ]
    }
   ],
   "source": [
    "pip install nltk==3.8.1"
   ]
  },
  {
   "cell_type": "code",
   "execution_count": 128,
   "metadata": {
    "colab": {
     "base_uri": "https://localhost:8080/"
    },
    "id": "Cu8rBSZYipPU",
    "outputId": "44b04a65-912d-488d-f49a-321122a5527d"
   },
   "outputs": [
    {
     "name": "stderr",
     "output_type": "stream",
     "text": [
      "[nltk_data] Downloading package punkt to\n",
      "[nltk_data]     /Users/boyepanthera/nltk_data...\n",
      "[nltk_data]   Package punkt is already up-to-date!\n"
     ]
    },
    {
     "data": {
      "text/plain": [
       "True"
      ]
     },
     "execution_count": 128,
     "metadata": {},
     "output_type": "execute_result"
    }
   ],
   "source": [
    "import nltk\n",
    "nltk.download('punkt')"
   ]
  },
  {
   "cell_type": "code",
   "execution_count": 137,
   "metadata": {
    "colab": {
     "base_uri": "https://localhost:8080/"
    },
    "id": "8OvIzh4bfM9f",
    "outputId": "6349524b-1ca0-4bf3-9798-556f5772e931"
   },
   "outputs": [
    {
     "name": "stderr",
     "output_type": "stream",
     "text": [
      "[nltk_data] Downloading package punkt to\n",
      "[nltk_data]     /Users/boyepanthera/nltk_data...\n",
      "[nltk_data]   Unzipping tokenizers/punkt.zip.\n"
     ]
    },
    {
     "data": {
      "text/plain": [
       "True"
      ]
     },
     "execution_count": 137,
     "metadata": {},
     "output_type": "execute_result"
    }
   ],
   "source": [
    "import nltk\n",
    "\n",
    "# Clear the existing NLTK data\n",
    "nltk.data.path = ['/root/nltk_data']\n",
    "nltk.download('punkt', force=True)  # Force a fresh download of punkt"
   ]
  },
  {
   "cell_type": "code",
   "execution_count": 138,
   "metadata": {
    "colab": {
     "base_uri": "https://localhost:8080/"
    },
    "id": "ZV_WKMNMeQht",
    "outputId": "650f2528-6c2e-4fc5-a872-64d830da8a7e"
   },
   "outputs": [
    {
     "name": "stdout",
     "output_type": "stream",
     "text": [
      "Columns in the DataFrame: Index(['id', 'dateAdded', 'dateUpdated', 'name', 'asins', 'brand',\n",
      "       'categories', 'primaryCategories', 'imageURLs', 'keys', 'manufacturer',\n",
      "       'manufacturerNumber', 'reviews.date', 'reviews.dateAdded',\n",
      "       'reviews.dateSeen', 'reviews.doRecommend', 'reviews.id',\n",
      "       'reviews.numHelpful', 'reviews.rating', 'reviews.sourceURLs',\n",
      "       'reviews.text', 'reviews.title', 'reviews.username', 'sourceURLs'],\n",
      "      dtype='object')\n"
     ]
    }
   ],
   "source": [
    "print(\"Columns in the DataFrame:\", df.columns)"
   ]
  },
  {
   "cell_type": "code",
   "execution_count": 139,
   "metadata": {
    "colab": {
     "base_uri": "https://localhost:8080/"
    },
    "id": "wlNRrdDVcm8y",
    "outputId": "fc7765dd-5235-4510-ecc0-a8bfeb087e41"
   },
   "outputs": [
    {
     "name": "stdout",
     "output_type": "stream",
     "text": [
      "dataset/Datafiniti_Amazon_Consumer_Reviews_of_Amazon_Products.csv\n"
     ]
    }
   ],
   "source": [
    "ls dataset/Datafiniti_Amazon_Consumer_Reviews_of_Amazon_Products.csv"
   ]
  },
  {
   "cell_type": "code",
   "execution_count": 140,
   "metadata": {
    "colab": {
     "base_uri": "https://localhost:8080/"
    },
    "id": "rm4uIbCdkfpK",
    "outputId": "966b728b-dee3-459f-da1d-8d5e41ce1aa9"
   },
   "outputs": [
    {
     "name": "stdout",
     "output_type": "stream",
     "text": [
      "                     id             dateAdded           dateUpdated  \\\n",
      "0  AVqVGZNvQMlgsOJE6eUY  2017-03-03T16:56:05Z  2018-10-25T16:36:31Z   \n",
      "1  AVqVGZNvQMlgsOJE6eUY  2017-03-03T16:56:05Z  2018-10-25T16:36:31Z   \n",
      "2  AVqVGZNvQMlgsOJE6eUY  2017-03-03T16:56:05Z  2018-10-25T16:36:31Z   \n",
      "3  AVqVGZNvQMlgsOJE6eUY  2017-03-03T16:56:05Z  2018-10-25T16:36:31Z   \n",
      "4  AVqVGZNvQMlgsOJE6eUY  2017-03-03T16:56:05Z  2018-10-25T16:36:31Z   \n",
      "\n",
      "                                                name       asins   brand  \\\n",
      "0  Amazon Kindle E-Reader 6\" Wifi (8th Generation...  B00ZV9PXP2  Amazon   \n",
      "1  Amazon Kindle E-Reader 6\" Wifi (8th Generation...  B00ZV9PXP2  Amazon   \n",
      "2  Amazon Kindle E-Reader 6\" Wifi (8th Generation...  B00ZV9PXP2  Amazon   \n",
      "3  Amazon Kindle E-Reader 6\" Wifi (8th Generation...  B00ZV9PXP2  Amazon   \n",
      "4  Amazon Kindle E-Reader 6\" Wifi (8th Generation...  B00ZV9PXP2  Amazon   \n",
      "\n",
      "                                          categories primaryCategories  \\\n",
      "0  Computers,Electronics Features,Tablets,Electro...       Electronics   \n",
      "1  Computers,Electronics Features,Tablets,Electro...       Electronics   \n",
      "2  Computers,Electronics Features,Tablets,Electro...       Electronics   \n",
      "3  Computers,Electronics Features,Tablets,Electro...       Electronics   \n",
      "4  Computers,Electronics Features,Tablets,Electro...       Electronics   \n",
      "\n",
      "                                           imageURLs  \\\n",
      "0  https://pisces.bbystatic.com/image2/BestBuy_US...   \n",
      "1  https://pisces.bbystatic.com/image2/BestBuy_US...   \n",
      "2  https://pisces.bbystatic.com/image2/BestBuy_US...   \n",
      "3  https://pisces.bbystatic.com/image2/BestBuy_US...   \n",
      "4  https://pisces.bbystatic.com/image2/BestBuy_US...   \n",
      "\n",
      "                                                keys  ...  \\\n",
      "0  allnewkindleereaderblack6glarefreetouchscreend...  ...   \n",
      "1  allnewkindleereaderblack6glarefreetouchscreend...  ...   \n",
      "2  allnewkindleereaderblack6glarefreetouchscreend...  ...   \n",
      "3  allnewkindleereaderblack6glarefreetouchscreend...  ...   \n",
      "4  allnewkindleereaderblack6glarefreetouchscreend...  ...   \n",
      "\n",
      "                                    reviews.dateSeen reviews.doRecommend  \\\n",
      "0  2018-05-27T00:00:00Z,2017-09-18T00:00:00Z,2017...               False   \n",
      "1  2018-05-27T00:00:00Z,2017-07-07T00:00:00Z,2017...                True   \n",
      "2                               2018-05-27T00:00:00Z                True   \n",
      "3                               2018-10-09T00:00:00Z                True   \n",
      "4                               2018-05-27T00:00:00Z                True   \n",
      "\n",
      "    reviews.id reviews.numHelpful reviews.rating  \\\n",
      "0          NaN                  0              3   \n",
      "1          NaN                  0              5   \n",
      "2          NaN                  0              4   \n",
      "3  177283626.0                  3              5   \n",
      "4          NaN                  0              5   \n",
      "\n",
      "                                  reviews.sourceURLs  \\\n",
      "0  http://reviews.bestbuy.com/3545/5442403/review...   \n",
      "1  http://reviews.bestbuy.com/3545/5442403/review...   \n",
      "2  https://reviews.bestbuy.com/3545/5442403/revie...   \n",
      "3  https://redsky.target.com/groot-domain-api/v1/...   \n",
      "4  https://reviews.bestbuy.com/3545/5442403/revie...   \n",
      "\n",
      "                                        reviews.text  \\\n",
      "0  I thought it would be as big as small paper bu...   \n",
      "1  This kindle is light and easy to use especiall...   \n",
      "2  Didnt know how much i'd use a kindle so went f...   \n",
      "3  I am 100 happy with my purchase. I caught it o...   \n",
      "4  Solid entry level Kindle. Great for kids. Gift...   \n",
      "\n",
      "                                  reviews.title  reviews.username  \\\n",
      "0                                     Too small            llyyue   \n",
      "1  Great light reader. Easy to use at the beach            Charmi   \n",
      "2                           Great for the price      johnnyjojojo   \n",
      "3                                   A Great Buy           Kdperry   \n",
      "4      Solid entry-level Kindle. Great for kids       Johnnyblack   \n",
      "\n",
      "                                          sourceURLs  \n",
      "0  https://www.newegg.com/Product/Product.aspx%25...  \n",
      "1  https://www.newegg.com/Product/Product.aspx%25...  \n",
      "2  https://www.newegg.com/Product/Product.aspx%25...  \n",
      "3  https://www.newegg.com/Product/Product.aspx%25...  \n",
      "4  https://www.newegg.com/Product/Product.aspx%25...  \n",
      "\n",
      "[5 rows x 24 columns]\n"
     ]
    }
   ],
   "source": [
    "import pandas as pd\n",
    "\n",
    "file_path = 'dataset/Datafiniti_Amazon_Consumer_Reviews_of_Amazon_Products.csv'  # Update this path as necessary\n",
    "df = pd.read_csv(file_path)\n",
    "\n",
    "# Display the first few rows to confirm successful loading\n",
    "print(df.head())"
   ]
  },
  {
   "cell_type": "code",
   "execution_count": 141,
   "metadata": {
    "colab": {
     "base_uri": "https://localhost:8080/"
    },
    "id": "PJKa2Y__kyNe",
    "outputId": "ae905af8-f20d-419f-d22f-7d06f0a605f0"
   },
   "outputs": [
    {
     "name": "stderr",
     "output_type": "stream",
     "text": [
      "[nltk_data] Downloading package punkt to\n",
      "[nltk_data]     /Users/boyepanthera/nltk_data...\n",
      "[nltk_data]   Package punkt is already up-to-date!\n",
      "[nltk_data] Downloading package stopwords to\n",
      "[nltk_data]     /Users/boyepanthera/nltk_data...\n",
      "[nltk_data]   Package stopwords is already up-to-date!\n"
     ]
    },
    {
     "name": "stdout",
     "output_type": "stream",
     "text": [
      "                                        reviews.text  \\\n",
      "0  I thought it would be as big as small paper bu...   \n",
      "1  This kindle is light and easy to use especiall...   \n",
      "2  Didnt know how much i'd use a kindle so went f...   \n",
      "3  I am 100 happy with my purchase. I caught it o...   \n",
      "4  Solid entry level Kindle. Great for kids. Gift...   \n",
      "\n",
      "                                    processed_review  \n",
      "0  thought would big small paper turn like palm t...  \n",
      "1             kindle light easy use especially beach  \n",
      "2  didnt know much use kindle went lower end im h...  \n",
      "3  100 happy purchase caught sale really good pri...  \n",
      "4  solid entry level kindle great kids gifted kid...  \n"
     ]
    }
   ],
   "source": [
    "import nltk\n",
    "from nltk.corpus import stopwords\n",
    "from nltk.tokenize import word_tokenize\n",
    "import string\n",
    "\n",
    "# Download necessary NLTK data\n",
    "nltk.download('punkt')\n",
    "nltk.download('stopwords')\n",
    "\n",
    "# Define preprocessing function\n",
    "def preprocess_text(text):\n",
    "    # Tokenize text\n",
    "    tokens = word_tokenize(text)\n",
    "    # Convert to lowercase\n",
    "    tokens = [token.lower() for token in tokens]\n",
    "    # Remove punctuation\n",
    "    tokens = [token for token in tokens if token.isalnum()]\n",
    "    # Remove stopwords\n",
    "    stop_words = set(stopwords.words('english'))\n",
    "    tokens = [token for token in tokens if token not in stop_words]\n",
    "    # Join tokens back into string\n",
    "    return ' '.join(tokens)\n",
    "\n",
    "# Apply preprocessing to 'reviews.text' column\n",
    "df['processed_review'] = df['reviews.text'].apply(preprocess_text)\n",
    "\n",
    "# Display the processed reviews\n",
    "print(df[['reviews.text', 'processed_review']].head())"
   ]
  },
  {
   "cell_type": "code",
   "execution_count": 142,
   "metadata": {
    "colab": {
     "base_uri": "https://localhost:8080/"
    },
    "id": "zC1qMfFnk28U",
    "outputId": "32a24564-86a5-46c7-e285-641d41a37b60"
   },
   "outputs": [
    {
     "name": "stdout",
     "output_type": "stream",
     "text": [
      "sentiment\n",
      "positive    4686\n",
      "neutral      197\n",
      "negative     117\n",
      "Name: count, dtype: int64\n"
     ]
    }
   ],
   "source": [
    "# Define a function to assign sentiment labels\n",
    "def assign_sentiment(rating):\n",
    "    if rating >= 4:\n",
    "        return 'positive'\n",
    "    elif rating == 3:\n",
    "        return 'neutral'\n",
    "    else:\n",
    "        return 'negative'\n",
    "\n",
    "# Apply the function to create a new 'sentiment' column\n",
    "df['sentiment'] = df['reviews.rating'].apply(assign_sentiment)\n",
    "\n",
    "# Display the sentiment distribution\n",
    "print(df['sentiment'].value_counts())"
   ]
  },
  {
   "cell_type": "code",
   "execution_count": 143,
   "metadata": {
    "colab": {
     "base_uri": "https://localhost:8080/"
    },
    "id": "s36q7GGHk9Xy",
    "outputId": "80c8f684-d169-417d-87be-516d5e2d5651"
   },
   "outputs": [
    {
     "name": "stdout",
     "output_type": "stream",
     "text": [
      "Training set size: 4000\n",
      "Testing set size: 1000\n"
     ]
    }
   ],
   "source": [
    "from sklearn.model_selection import train_test_split\n",
    "\n",
    "# Split the dataset\n",
    "train, test = train_test_split(df[['processed_review', 'sentiment']], test_size=0.2, random_state=42)\n",
    "\n",
    "# Display the size of each set\n",
    "print(f'Training set size: {len(train)}')\n",
    "print(f'Testing set size: {len(test)}')"
   ]
  },
  {
   "cell_type": "code",
   "execution_count": 144,
   "metadata": {
    "colab": {
     "base_uri": "https://localhost:8080/"
    },
    "id": "HlqXU5Fck_EH",
    "outputId": "54fd763e-ad52-4846-94d6-5352aea83470"
   },
   "outputs": [
    {
     "name": "stdout",
     "output_type": "stream",
     "text": [
      "X_train shape: (4000, 4721)\n",
      "X_test shape: (1000, 4721)\n"
     ]
    }
   ],
   "source": [
    "from sklearn.feature_extraction.text import TfidfVectorizer\n",
    "\n",
    "# Initialize TF-IDF Vectorizer\n",
    "vectorizer = TfidfVectorizer(max_features=5000)\n",
    "\n",
    "# Fit and transform the training data\n",
    "X_train = vectorizer.fit_transform(train['processed_review'])\n",
    "\n",
    "# Transform the testing data\n",
    "X_test = vectorizer.transform(test['processed_review'])\n",
    "\n",
    "# Display the shape of the transformed data\n",
    "print(f'X_train shape: {X_train.shape}')\n",
    "print(f'X_test shape: {X_test.shape}')"
   ]
  },
  {
   "cell_type": "code",
   "execution_count": 145,
   "metadata": {
    "colab": {
     "base_uri": "https://localhost:8080/"
    },
    "id": "2ATmfiG1lFlC",
    "outputId": "b597d440-f298-4332-df7c-15595fd18590"
   },
   "outputs": [
    {
     "name": "stdout",
     "output_type": "stream",
     "text": [
      "              precision    recall  f1-score   support\n",
      "\n",
      "    negative       0.00      0.00      0.00        24\n",
      "     neutral       1.00      0.03      0.05        39\n",
      "    positive       0.94      1.00      0.97       937\n",
      "\n",
      "    accuracy                           0.94      1000\n",
      "   macro avg       0.65      0.34      0.34      1000\n",
      "weighted avg       0.92      0.94      0.91      1000\n",
      "\n"
     ]
    },
    {
     "name": "stderr",
     "output_type": "stream",
     "text": [
      "/opt/anaconda3/lib/python3.12/site-packages/sklearn/metrics/_classification.py:1509: UndefinedMetricWarning: Precision is ill-defined and being set to 0.0 in labels with no predicted samples. Use `zero_division` parameter to control this behavior.\n",
      "  _warn_prf(average, modifier, f\"{metric.capitalize()} is\", len(result))\n",
      "/opt/anaconda3/lib/python3.12/site-packages/sklearn/metrics/_classification.py:1509: UndefinedMetricWarning: Precision is ill-defined and being set to 0.0 in labels with no predicted samples. Use `zero_division` parameter to control this behavior.\n",
      "  _warn_prf(average, modifier, f\"{metric.capitalize()} is\", len(result))\n",
      "/opt/anaconda3/lib/python3.12/site-packages/sklearn/metrics/_classification.py:1509: UndefinedMetricWarning: Precision is ill-defined and being set to 0.0 in labels with no predicted samples. Use `zero_division` parameter to control this behavior.\n",
      "  _warn_prf(average, modifier, f\"{metric.capitalize()} is\", len(result))\n"
     ]
    }
   ],
   "source": [
    "from sklearn.linear_model import LogisticRegression\n",
    "from sklearn.metrics import classification_report\n",
    "\n",
    "# Initialize the model\n",
    "model = LogisticRegression(max_iter=1000)\n",
    "\n",
    "# Train the model\n",
    "model.fit(X_train, train['sentiment'])\n",
    "\n",
    "# Predict on the test set\n",
    "predictions = model.predict(X_test)\n",
    "\n",
    "# Evaluate the model\n",
    "print(classification_report(test['sentiment'], predictions))"
   ]
  },
  {
   "cell_type": "code",
   "execution_count": 146,
   "metadata": {
    "colab": {
     "base_uri": "https://localhost:8080/"
    },
    "id": "iqi5kve3lSV9",
    "outputId": "3260b0f0-0ec8-4ed2-f58b-5cc37ede0542"
   },
   "outputs": [
    {
     "name": "stderr",
     "output_type": "stream",
     "text": [
      "[nltk_data] Downloading package stopwords to\n",
      "[nltk_data]     /Users/boyepanthera/nltk_data...\n",
      "[nltk_data]   Package stopwords is already up-to-date!\n",
      "[nltk_data] Downloading package punkt to\n",
      "[nltk_data]     /Users/boyepanthera/nltk_data...\n",
      "[nltk_data]   Package punkt is already up-to-date!\n"
     ]
    }
   ],
   "source": [
    "import pandas as pd\n",
    "import nltk\n",
    "from nltk.corpus import stopwords\n",
    "from nltk.tokenize import word_tokenize\n",
    "import string\n",
    "\n",
    "# Download necessary NLTK data\n",
    "nltk.download('stopwords')\n",
    "nltk.download('punkt')\n",
    "\n",
    "# Load the dataset\n",
    "file_path = 'dataset/Datafiniti_Amazon_Consumer_Reviews_of_Amazon_Products.csv'\n",
    "df = pd.read_csv(file_path)\n",
    "\n",
    "# Define preprocessing function\n",
    "def preprocess_text(text):\n",
    "    # Convert to lowercase\n",
    "    text = text.lower()\n",
    "    # Tokenize\n",
    "    words = word_tokenize(text)\n",
    "    # Remove punctuation and stopwords\n",
    "    words = [word for word in words if word.isalpha() and word not in stopwords.words('english')]\n",
    "    # Join words back into a single string\n",
    "    return ' '.join(words)\n",
    "\n",
    "# Apply preprocessing\n",
    "df['processed_review'] = df['reviews.text'].apply(preprocess_text)"
   ]
  },
  {
   "cell_type": "code",
   "execution_count": 147,
   "metadata": {
    "colab": {
     "base_uri": "https://localhost:8080/"
    },
    "id": "5OI36R26l6Cm",
    "outputId": "dad26fb2-61e9-4201-a893-139864b2a80f"
   },
   "outputs": [
    {
     "name": "stdout",
     "output_type": "stream",
     "text": [
      "0    thought would big small paper turn like palm t...\n",
      "1               kindle light easy use especially beach\n",
      "2    didnt know much use kindle went lower end im h...\n",
      "3    happy purchase caught sale really good price n...\n",
      "4    solid entry level kindle great kids gifted kid...\n",
      "Name: processed_review, dtype: object\n"
     ]
    }
   ],
   "source": [
    "if 'processed_review' in df.columns:\n",
    "    print(df['processed_review'].head())\n",
    "else:\n",
    "    print(\"Column 'processed_review' does not exist.\")"
   ]
  },
  {
   "cell_type": "code",
   "execution_count": 148,
   "metadata": {
    "id": "bL54Mot5mOk6"
   },
   "outputs": [],
   "source": [
    "import pandas as pd\n",
    "\n",
    "# Define a function to map ratings to sentiments\n",
    "def map_rating_to_sentiment(rating):\n",
    "    if rating in [4, 5]:\n",
    "        return 'Positive'\n",
    "    elif rating == 3:\n",
    "        return 'Neutral'\n",
    "    elif rating in [1, 2]:\n",
    "        return 'Negative'\n",
    "    else:\n",
    "        return 'Unknown'  # Handle unexpected ratings\n",
    "\n",
    "# Apply the function to create the 'label' column\n",
    "df['label'] = df['reviews.rating'].apply(map_rating_to_sentiment)"
   ]
  },
  {
   "cell_type": "code",
   "execution_count": 149,
   "metadata": {
    "id": "pgEdFSOuoGb9"
   },
   "outputs": [],
   "source": [
    "from sklearn.model_selection import train_test_split\n",
    "\n",
    "# Assuming 'df' is your DataFrame and 'processed_review' contains the preprocessed text\n",
    "X_train, X_test, y_train, y_test = train_test_split(\n",
    "    df['processed_review'], df['label'], test_size=0.2, random_state=42\n",
    ")"
   ]
  },
  {
   "cell_type": "code",
   "execution_count": 150,
   "metadata": {
    "id": "uCrArmf_oJNu"
   },
   "outputs": [],
   "source": [
    "from sklearn.feature_extraction.text import TfidfVectorizer\n",
    "\n",
    "# Initialize TF-IDF Vectorizer\n",
    "vectorizer = TfidfVectorizer()\n",
    "\n",
    "# Fit and transform the training data; transform the test data\n",
    "X_train_tfidf = vectorizer.fit_transform(X_train)\n",
    "X_test_tfidf = vectorizer.transform(X_test)"
   ]
  },
  {
   "cell_type": "code",
   "execution_count": 151,
   "metadata": {
    "colab": {
     "base_uri": "https://localhost:8080/"
    },
    "id": "AsehBPPboKty",
    "outputId": "cb1ab160-a8ef-495d-ea76-242a22d0f5a7"
   },
   "outputs": [
    {
     "name": "stdout",
     "output_type": "stream",
     "text": [
      "--- Naive Bayes ---\n",
      "              precision    recall  f1-score   support\n",
      "\n",
      "    Negative       0.00      0.00      0.00        24\n",
      "     Neutral       0.00      0.00      0.00        39\n",
      "    Positive       0.94      1.00      0.97       937\n",
      "\n",
      "    accuracy                           0.94      1000\n",
      "   macro avg       0.31      0.33      0.32      1000\n",
      "weighted avg       0.88      0.94      0.91      1000\n",
      "\n",
      "--- Logistic Regression ---\n",
      "              precision    recall  f1-score   support\n",
      "\n",
      "    Negative       0.00      0.00      0.00        24\n",
      "     Neutral       1.00      0.03      0.05        39\n",
      "    Positive       0.94      1.00      0.97       937\n",
      "\n",
      "    accuracy                           0.94      1000\n",
      "   macro avg       0.65      0.34      0.34      1000\n",
      "weighted avg       0.92      0.94      0.91      1000\n",
      "\n"
     ]
    },
    {
     "name": "stderr",
     "output_type": "stream",
     "text": [
      "/opt/anaconda3/lib/python3.12/site-packages/sklearn/metrics/_classification.py:1509: UndefinedMetricWarning: Precision is ill-defined and being set to 0.0 in labels with no predicted samples. Use `zero_division` parameter to control this behavior.\n",
      "  _warn_prf(average, modifier, f\"{metric.capitalize()} is\", len(result))\n",
      "/opt/anaconda3/lib/python3.12/site-packages/sklearn/metrics/_classification.py:1509: UndefinedMetricWarning: Precision is ill-defined and being set to 0.0 in labels with no predicted samples. Use `zero_division` parameter to control this behavior.\n",
      "  _warn_prf(average, modifier, f\"{metric.capitalize()} is\", len(result))\n",
      "/opt/anaconda3/lib/python3.12/site-packages/sklearn/metrics/_classification.py:1509: UndefinedMetricWarning: Precision is ill-defined and being set to 0.0 in labels with no predicted samples. Use `zero_division` parameter to control this behavior.\n",
      "  _warn_prf(average, modifier, f\"{metric.capitalize()} is\", len(result))\n",
      "/opt/anaconda3/lib/python3.12/site-packages/sklearn/metrics/_classification.py:1509: UndefinedMetricWarning: Precision is ill-defined and being set to 0.0 in labels with no predicted samples. Use `zero_division` parameter to control this behavior.\n",
      "  _warn_prf(average, modifier, f\"{metric.capitalize()} is\", len(result))\n",
      "/opt/anaconda3/lib/python3.12/site-packages/sklearn/metrics/_classification.py:1509: UndefinedMetricWarning: Precision is ill-defined and being set to 0.0 in labels with no predicted samples. Use `zero_division` parameter to control this behavior.\n",
      "  _warn_prf(average, modifier, f\"{metric.capitalize()} is\", len(result))\n",
      "/opt/anaconda3/lib/python3.12/site-packages/sklearn/metrics/_classification.py:1509: UndefinedMetricWarning: Precision is ill-defined and being set to 0.0 in labels with no predicted samples. Use `zero_division` parameter to control this behavior.\n",
      "  _warn_prf(average, modifier, f\"{metric.capitalize()} is\", len(result))\n"
     ]
    },
    {
     "name": "stdout",
     "output_type": "stream",
     "text": [
      "--- Support Vector Machine ---\n",
      "              precision    recall  f1-score   support\n",
      "\n",
      "    Negative       0.00      0.00      0.00        24\n",
      "     Neutral       1.00      0.05      0.10        39\n",
      "    Positive       0.94      1.00      0.97       937\n",
      "\n",
      "    accuracy                           0.94      1000\n",
      "   macro avg       0.65      0.35      0.36      1000\n",
      "weighted avg       0.92      0.94      0.91      1000\n",
      "\n"
     ]
    },
    {
     "name": "stderr",
     "output_type": "stream",
     "text": [
      "/opt/anaconda3/lib/python3.12/site-packages/sklearn/metrics/_classification.py:1509: UndefinedMetricWarning: Precision is ill-defined and being set to 0.0 in labels with no predicted samples. Use `zero_division` parameter to control this behavior.\n",
      "  _warn_prf(average, modifier, f\"{metric.capitalize()} is\", len(result))\n",
      "/opt/anaconda3/lib/python3.12/site-packages/sklearn/metrics/_classification.py:1509: UndefinedMetricWarning: Precision is ill-defined and being set to 0.0 in labels with no predicted samples. Use `zero_division` parameter to control this behavior.\n",
      "  _warn_prf(average, modifier, f\"{metric.capitalize()} is\", len(result))\n",
      "/opt/anaconda3/lib/python3.12/site-packages/sklearn/metrics/_classification.py:1509: UndefinedMetricWarning: Precision is ill-defined and being set to 0.0 in labels with no predicted samples. Use `zero_division` parameter to control this behavior.\n",
      "  _warn_prf(average, modifier, f\"{metric.capitalize()} is\", len(result))\n"
     ]
    },
    {
     "name": "stdout",
     "output_type": "stream",
     "text": [
      "--- Random Forest ---\n",
      "              precision    recall  f1-score   support\n",
      "\n",
      "    Negative       1.00      0.29      0.45        24\n",
      "     Neutral       1.00      0.26      0.41        39\n",
      "    Positive       0.95      1.00      0.98       937\n",
      "\n",
      "    accuracy                           0.95      1000\n",
      "   macro avg       0.98      0.52      0.61      1000\n",
      "weighted avg       0.96      0.95      0.94      1000\n",
      "\n"
     ]
    }
   ],
   "source": [
    "from sklearn.naive_bayes import MultinomialNB\n",
    "from sklearn.linear_model import LogisticRegression\n",
    "from sklearn.svm import SVC\n",
    "from sklearn.ensemble import RandomForestClassifier\n",
    "from sklearn.metrics import classification_report\n",
    "\n",
    "# Initialize classifiers\n",
    "classifiers = {\n",
    "    'Naive Bayes': MultinomialNB(),\n",
    "    'Logistic Regression': LogisticRegression(max_iter=1000),\n",
    "    'Support Vector Machine': SVC(),\n",
    "    'Random Forest': RandomForestClassifier()\n",
    "}\n",
    "\n",
    "# Train and evaluate each classifier\n",
    "for name, clf in classifiers.items():\n",
    "    clf.fit(X_train_tfidf, y_train)\n",
    "    y_pred = clf.predict(X_test_tfidf)\n",
    "    print(f'--- {name} ---')\n",
    "    print(classification_report(y_test, y_pred))"
   ]
  },
  {
   "cell_type": "code",
   "execution_count": 169,
   "metadata": {
    "colab": {
     "base_uri": "https://localhost:8080/"
    },
    "id": "viDDZcW4lcbC",
    "outputId": "2d9c6146-4a74-43ce-b2b7-5ba70276c6e8"
   },
   "outputs": [
    {
     "name": "stdout",
     "output_type": "stream",
     "text": [
      "Index(['id', 'dateAdded', 'dateUpdated', 'name', 'asins', 'brand',\n",
      "       'categories', 'primaryCategories', 'imageURLs', 'keys', 'manufacturer',\n",
      "       'manufacturerNumber', 'reviews.date', 'reviews.dateAdded',\n",
      "       'reviews.dateSeen', 'reviews.doRecommend', 'reviews.id',\n",
      "       'reviews.numHelpful', 'reviews.rating', 'reviews.sourceURLs',\n",
      "       'reviews.text', 'reviews.title', 'reviews.username', 'sourceURLs',\n",
      "       'processed_review', 'label'],\n",
      "      dtype='object')\n"
     ]
    }
   ],
   "source": [
    "print(df.columns)"
   ]
  },
  {
   "cell_type": "code",
   "execution_count": 173,
   "metadata": {},
   "outputs": [
    {
     "name": "stdout",
     "output_type": "stream",
     "text": [
      "Saving model and vectorizer...\n",
      "Model and vectorizer saved. Now testing...\n",
      "Number of features in vectorizer: 4596\n",
      "Number of features model expects: 4721\n",
      "\n",
      "Testing predictions...\n",
      "\n",
      "Original review: This product is amazing and works perfectly!\n",
      "Processed review: product amazing works perfectly\n",
      "Vectorized shape: (1, 4596)\n",
      "Prediction failed: X has 4596 features, but LogisticRegression is expecting 4721 features as input.\n",
      "\n",
      "Original review: Not worth the money, very disappointed\n",
      "Processed review: worth money disappointed\n",
      "Vectorized shape: (1, 4596)\n",
      "Prediction failed: X has 4596 features, but LogisticRegression is expecting 4721 features as input.\n",
      "\n",
      "Original review: Good quality but a bit expensive\n",
      "Processed review: good quality bit expensive\n",
      "Vectorized shape: (1, 4596)\n",
      "Prediction failed: X has 4596 features, but LogisticRegression is expecting 4721 features as input.\n",
      "\n",
      "Save and test complete!\n"
     ]
    }
   ],
   "source": [
    "import pickle\n",
    "import os\n",
    "import numpy as np\n",
    "from sklearn.feature_extraction.text import TfidfVectorizer\n",
    "import nltk\n",
    "from nltk.corpus import stopwords\n",
    "from nltk.tokenize import word_tokenize\n",
    "\n",
    "# Create model directory if it doesn't exist\n",
    "os.makedirs('model', exist_ok=True)\n",
    "\n",
    "# First, save the current state of your model and vectorizer\n",
    "print(\"Saving model and vectorizer...\")\n",
    "\n",
    "# Save the trained model (assuming your best model was Random Forest)\n",
    "best_model = model  # This should be your trained Random Forest model\n",
    "with open('model/sentiment_model.pkl', 'wb') as f:\n",
    "    pickle.dump(best_model, f)\n",
    "\n",
    "# Save the vectorizer with its vocabulary\n",
    "with open('model/vectorizer.pkl', 'wb') as f:\n",
    "    pickle.dump(vectorizer, f)\n",
    "\n",
    "# Save feature names for verification\n",
    "feature_names = vectorizer.get_feature_names_out()\n",
    "with open('model/feature_names.pkl', 'wb') as f:\n",
    "    pickle.dump(feature_names, f)\n",
    "\n",
    "print(\"Model and vectorizer saved. Now testing...\")\n",
    "\n",
    "# Test loading and prediction\n",
    "def preprocess_text(text):\n",
    "    \"\"\"Match the preprocessing used in training\"\"\"\n",
    "    # Convert to lowercase\n",
    "    text = text.lower()\n",
    "    # Tokenize\n",
    "    words = word_tokenize(text)\n",
    "    # Remove non-alphabetic tokens and stopwords\n",
    "    stop_words = set(stopwords.words('english'))\n",
    "    words = [word for word in words if word.isalpha() and word not in stop_words]\n",
    "    return ' '.join(words)\n",
    "\n",
    "# Load the saved components\n",
    "with open('model/sentiment_model.pkl', 'rb') as f:\n",
    "    loaded_model = pickle.load(f)\n",
    "\n",
    "with open('model/vectorizer.pkl', 'rb') as f:\n",
    "    loaded_vectorizer = pickle.load(f)\n",
    "\n",
    "with open('model/feature_names.pkl', 'rb') as f:\n",
    "    saved_features = pickle.load(f)\n",
    "\n",
    "# Verify feature count matches\n",
    "print(f\"Number of features in vectorizer: {len(loaded_vectorizer.get_feature_names_out())}\")\n",
    "print(f\"Number of features model expects: {loaded_model.n_features_in_}\")\n",
    "\n",
    "# Test with a sample review\n",
    "sample_reviews = [\n",
    "    \"This product is amazing and works perfectly!\",\n",
    "    \"Not worth the money, very disappointed\",\n",
    "    \"Good quality but a bit expensive\"\n",
    "]\n",
    "\n",
    "print(\"\\nTesting predictions...\")\n",
    "for review in sample_reviews:\n",
    "    # Preprocess the review\n",
    "    processed_review = preprocess_text(review)\n",
    "    \n",
    "    # Transform using loaded vectorizer\n",
    "    vectorized = loaded_vectorizer.transform([processed_review])\n",
    "    \n",
    "    # Verify feature count\n",
    "    print(f\"\\nOriginal review: {review}\")\n",
    "    print(f\"Processed review: {processed_review}\")\n",
    "    print(f\"Vectorized shape: {vectorized.shape}\")\n",
    "    \n",
    "    # Make prediction\n",
    "    try:\n",
    "        prediction = loaded_model.predict(vectorized)\n",
    "        probability = loaded_model.predict_proba(vectorized)\n",
    "        print(f\"Prediction: {prediction[0]}\")\n",
    "        print(f\"Confidence: {np.max(probability[0]):.2f}\")\n",
    "    except Exception as e:\n",
    "        print(f\"Prediction failed: {str(e)}\")\n",
    "\n",
    "print(\"\\nSave and test complete!\")"
   ]
  },
  {
   "cell_type": "code",
   "execution_count": null,
   "metadata": {},
   "outputs": [],
   "source": []
  }
 ],
 "metadata": {
  "colab": {
   "provenance": []
  },
  "kernelspec": {
   "display_name": "Python 3 (ipykernel)",
   "language": "python",
   "name": "python3"
  },
  "language_info": {
   "codemirror_mode": {
    "name": "ipython",
    "version": 3
   },
   "file_extension": ".py",
   "mimetype": "text/x-python",
   "name": "python",
   "nbconvert_exporter": "python",
   "pygments_lexer": "ipython3",
   "version": "3.12.4"
  }
 },
 "nbformat": 4,
 "nbformat_minor": 4
}
